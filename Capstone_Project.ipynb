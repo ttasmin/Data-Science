{
 "cells": [
  {
   "cell_type": "markdown",
   "metadata": {
    "slideshow": {
     "slide_type": "slide"
    },
    "toc": true
   },
   "source": [
    "<h1>Table of Contents<span class=\"tocSkip\"></span></h1>\n",
    "<div class=\"toc\"><ul class=\"toc-item\"><li><span><a href=\"#-Introduction:\" data-toc-modified-id=\"-Introduction:-1\"><span class=\"toc-item-num\">1&nbsp;&nbsp;</span><font color=\"blue\"> Introduction:</font></a></span></li><li><span><a href=\"#-Data-Unserstanding-\" data-toc-modified-id=\"-Data-Unserstanding--2\"><span class=\"toc-item-num\">2&nbsp;&nbsp;</span><font color=\"blue\"> Data Unserstanding </font></a></span><ul class=\"toc-item\"><li><span><a href=\"#Data-Collection\" data-toc-modified-id=\"Data-Collection-2.1\"><span class=\"toc-item-num\">2.1&nbsp;&nbsp;</span>Data Collection</a></span></li><li><span><a href=\"#Feature-Selection\" data-toc-modified-id=\"Feature-Selection-2.2\"><span class=\"toc-item-num\">2.2&nbsp;&nbsp;</span>Feature Selection</a></span></li><li><span><a href=\"#Target/-Label-selection\" data-toc-modified-id=\"Target/-Label-selection-2.3\"><span class=\"toc-item-num\">2.3&nbsp;&nbsp;</span>Target/ Label selection</a></span></li></ul></li><li><span><a href=\"#-Methodology--\" data-toc-modified-id=\"-Methodology---3\"><span class=\"toc-item-num\">3&nbsp;&nbsp;</span><font color=\"blue\"> Methodology  </font></a></span><ul class=\"toc-item\"><li><span><a href=\"#Exploratory-Analysis\" data-toc-modified-id=\"Exploratory-Analysis-3.1\"><span class=\"toc-item-num\">3.1&nbsp;&nbsp;</span>Exploratory Analysis</a></span></li><li><span><a href=\"#Balancing-the-Dataset\" data-toc-modified-id=\"Balancing-the-Dataset-3.2\"><span class=\"toc-item-num\">3.2&nbsp;&nbsp;</span>Balancing the Dataset</a></span></li><li><span><a href=\"#Converting-Categorical-features-to-Numerical-values:\" data-toc-modified-id=\"Converting-Categorical-features-to-Numerical-values:-3.3\"><span class=\"toc-item-num\">3.3&nbsp;&nbsp;</span>Converting Categorical features to Numerical values:</a></span><ul class=\"toc-item\"><li><span><a href=\"#Column-SEVERITYCODE\" data-toc-modified-id=\"Column-SEVERITYCODE-3.3.1\"><span class=\"toc-item-num\">3.3.1&nbsp;&nbsp;</span>Column SEVERITYCODE</a></span></li><li><span><a href=\"#Column-INATTENTIONIND\" data-toc-modified-id=\"Column-INATTENTIONIND-3.3.2\"><span class=\"toc-item-num\">3.3.2&nbsp;&nbsp;</span>Column INATTENTIONIND</a></span></li><li><span><a href=\"#Column-UNDERINFL\" data-toc-modified-id=\"Column-UNDERINFL-3.3.3\"><span class=\"toc-item-num\">3.3.3&nbsp;&nbsp;</span>Column UNDERINFL</a></span></li><li><span><a href=\"#Column-WEATHER\" data-toc-modified-id=\"Column-WEATHER-3.3.4\"><span class=\"toc-item-num\">3.3.4&nbsp;&nbsp;</span>Column WEATHER</a></span></li><li><span><a href=\"#Column-ROADCOND\" data-toc-modified-id=\"Column-ROADCOND-3.3.5\"><span class=\"toc-item-num\">3.3.5&nbsp;&nbsp;</span>Column ROADCOND</a></span></li><li><span><a href=\"#Column-LIGHTCOND\" data-toc-modified-id=\"Column-LIGHTCOND-3.3.6\"><span class=\"toc-item-num\">3.3.6&nbsp;&nbsp;</span>Column LIGHTCOND</a></span></li><li><span><a href=\"#Column-SPEEDING\" data-toc-modified-id=\"Column-SPEEDING-3.3.7\"><span class=\"toc-item-num\">3.3.7&nbsp;&nbsp;</span>Column SPEEDING</a></span></li><li><span><a href=\"#Correlation-between-diffeternt-columns\" data-toc-modified-id=\"Correlation-between-diffeternt-columns-3.3.8\"><span class=\"toc-item-num\">3.3.8&nbsp;&nbsp;</span>Correlation between diffeternt columns</a></span></li><li><span><a href=\"#Feature-Selection\" data-toc-modified-id=\"Feature-Selection-3.3.9\"><span class=\"toc-item-num\">3.3.9&nbsp;&nbsp;</span>Feature Selection</a></span></li><li><span><a href=\"#Label-Selection\" data-toc-modified-id=\"Label-Selection-3.3.10\"><span class=\"toc-item-num\">3.3.10&nbsp;&nbsp;</span>Label Selection</a></span></li><li><span><a href=\"#Normalize-Data\" data-toc-modified-id=\"Normalize-Data-3.3.11\"><span class=\"toc-item-num\">3.3.11&nbsp;&nbsp;</span>Normalize Data</a></span></li><li><span><a href=\"#Dividing-data-into-training-set-and-test-set\" data-toc-modified-id=\"Dividing-data-into-training-set-and-test-set-3.3.12\"><span class=\"toc-item-num\">3.3.12&nbsp;&nbsp;</span>Dividing data into training set and test set</a></span></li></ul></li></ul></li><li><span><a href=\"#-Machine-Learning-Models:-Classification-\" data-toc-modified-id=\"-Machine-Learning-Models:-Classification--4\"><span class=\"toc-item-num\">4&nbsp;&nbsp;</span><font color=\"blue\"> Machine Learning Models: Classification </font></a></span><ul class=\"toc-item\"><li><span><a href=\"#K-Nearest-Neighbor(KNN)\" data-toc-modified-id=\"K-Nearest-Neighbor(KNN)-4.1\"><span class=\"toc-item-num\">4.1&nbsp;&nbsp;</span>K Nearest Neighbor(KNN)</a></span></li><li><span><a href=\"#Decision-Tree\" data-toc-modified-id=\"Decision-Tree-4.2\"><span class=\"toc-item-num\">4.2&nbsp;&nbsp;</span>Decision Tree</a></span></li><li><span><a href=\"#Logistic-Regression\" data-toc-modified-id=\"Logistic-Regression-4.3\"><span class=\"toc-item-num\">4.3&nbsp;&nbsp;</span>Logistic Regression</a></span></li></ul></li><li><span><a href=\"#-Results-\" data-toc-modified-id=\"-Results--5\"><span class=\"toc-item-num\">5&nbsp;&nbsp;</span><font color=\"blue\"> Results </font></a></span><ul class=\"toc-item\"><li><ul class=\"toc-item\"><li><span><a href=\"#Classification-report\" data-toc-modified-id=\"Classification-report-5.0.1\"><span class=\"toc-item-num\">5.0.1&nbsp;&nbsp;</span>Classification report</a></span></li></ul></li></ul></li><li><span><a href=\"#-Discussions-\" data-toc-modified-id=\"-Discussions--6\"><span class=\"toc-item-num\">6&nbsp;&nbsp;</span><font color=\"blue\"> Discussions </font></a></span></li><li><span><a href=\"#-Recommendations-\" data-toc-modified-id=\"-Recommendations--7\"><span class=\"toc-item-num\">7&nbsp;&nbsp;</span><font color=\"blue\"> Recommendations </font></a></span><ul class=\"toc-item\"><li><span><a href=\"#Public-Development-Authority-of-Seattle-(PDAS)\" data-toc-modified-id=\"Public-Development-Authority-of-Seattle-(PDAS)-7.1\"><span class=\"toc-item-num\">7.1&nbsp;&nbsp;</span>Public Development Authority of Seattle (PDAS)</a></span></li><li><span><a href=\"#Car-Drivers\" data-toc-modified-id=\"Car-Drivers-7.2\"><span class=\"toc-item-num\">7.2&nbsp;&nbsp;</span>Car Drivers</a></span></li></ul></li></ul></div>"
   ]
  },
  {
   "cell_type": "markdown",
   "metadata": {
    "collapsed": true,
    "hide_input": true,
    "slideshow": {
     "slide_type": "slide"
    }
   },
   "source": [
    "# <font color=blue> Introduction:</font>\n",
    "\n",
    "This project is a part of IBM Data Science Professional Certificate Course that I am pursuing on Coursera. This project aims to answer to the business problem: \"Can a driver predict the severity of a future accident by observing a number of conditions such as road condition, weather condition, visibility condition etc.\".\n",
    "\n",
    "Car accident has become a very serious problem in Seattle. It has become essential to develop a model which can predict the severity of a car accident in terms of human fatality, physical injury, property damage, traffic delay etc and thereby alert the drivers about the accidents ahead of time.\n",
    "\n",
    "**Stakeholders:** The reduction in severity of accidents can be beneficial to the Public Development Authority of Seattle which works towards improving those road factors and the car drivers themselves who may take precaution to reduce the severity of accidents.\n",
    "\n"
   ]
  },
  {
   "cell_type": "markdown",
   "metadata": {
    "hide_input": false,
    "slideshow": {
     "slide_type": "slide"
    }
   },
   "source": [
    "# <font color=blue> Data Unserstanding </font>"
   ]
  },
  {
   "cell_type": "markdown",
   "metadata": {
    "slideshow": {
     "slide_type": "slide"
    }
   },
   "source": [
    "## Data Collection\n",
    "For this project, we don't need to go through web scraping as we already have a data set provided as a csv file which can be found [here](https://s3.us.cloud-object-storage.appdomain.cloud/cf-courses-data/CognitiveClass/DP0701EN/version-2/). This csv file is based on car accidents which have taken place within the city of Seattle, Washington from the year 2004 to 2020. This data shows the severity of each car accidents along with the time and conditions under which each accident occurred. Theer are 194673 number of rows and 38 columns in this data set. Each row represents a particular accident whereas the columns represent various conditions under which the accidents take place."
   ]
  },
  {
   "cell_type": "markdown",
   "metadata": {
    "hide_input": false,
    "slideshow": {
     "slide_type": "slide"
    }
   },
   "source": [
    "## Feature Selection\n",
    "\n",
    "We will select \"ROADCONDITION\", \"WEATHERCONDITION\", \"LIGHTCONDITION\", \"SPEEDING\", \"INATTENTIONIND\" and \"UNDERINFL\" as the features/ attributes of our model.\n",
    "\n",
    "| Feature Variable| Description                                             |\n",
    "|:---------------:|:-------------------------------------------------------:|\n",
    "| INATTENTIONIND  | Whether or ot the driver was inattentive                |\n",
    "| UNDERINFL       | Whether or ot the driver was inattentive                |\n",
    "| ROADCONDITION   | Road Condition during the collision                     |    \n",
    "| WEATHERCONDITION| Weather Condition during the collision                  |\n",
    "| LIGHTCONDITION  | Weather Condition during the collision                  | \n",
    "| SPEEDING        | Whether the car was above speed limit during collision  |                                                                   \n"
   ]
  },
  {
   "cell_type": "markdown",
   "metadata": {
    "slideshow": {
     "slide_type": "slide"
    }
   },
   "source": [
    "##  Target/ Label selection\n",
    "We will choose the column \"Severity Code\" as the target/ label of our model. \n",
    "\n",
    "The severity code is assigned as follows-\n",
    "\n",
    "- 0 - No probability of accident\n",
    "\n",
    "- 1 - Only Property Damage\n",
    "\n",
    "- 2 - Physical Injury"
   ]
  },
  {
   "cell_type": "markdown",
   "metadata": {
    "slideshow": {
     "slide_type": "slide"
    }
   },
   "source": [
    "# <font color=blue> Methodology  </font>"
   ]
  },
  {
   "cell_type": "code",
   "execution_count": 1,
   "metadata": {
    "hide_input": true,
    "slideshow": {
     "slide_type": "slide"
    }
   },
   "outputs": [],
   "source": [
    "# Importing Libraries\n",
    "import pandas as pd\n",
    "import numpy as np\n",
    "import matplotlib.pyplot as plt\n",
    "import matplotlib as mpl\n",
    "import random\n",
    "\n",
    "from sklearn.utils import resample\n",
    "from sklearn import preprocessing\n",
    "from sklearn.model_selection import train_test_split\n",
    "\n",
    "from sklearn.neighbors import KNeighborsClassifier\n",
    "from sklearn.tree import DecisionTreeClassifier\n",
    "from sklearn.svm import SVC\n",
    "from sklearn.linear_model import LogisticRegression\n",
    "\n",
    "from sklearn.metrics import  accuracy_score, jaccard_similarity_score, f1_score, log_loss\n",
    "from sklearn.metrics import classification_report, confusion_matrix\n",
    "import itertools\n",
    "\n",
    "from folium import plugins\n",
    "import folium\n",
    "%matplotlib inline\n"
   ]
  },
  {
   "cell_type": "markdown",
   "metadata": {
    "slideshow": {
     "slide_type": "slide"
    }
   },
   "source": [
    "## Exploratory Analysis \n",
    "\n",
    "Lets take a look at the first five rows of the original data set."
   ]
  },
  {
   "cell_type": "code",
   "execution_count": 40,
   "metadata": {
    "hide_input": true,
    "slideshow": {
     "slide_type": "slide"
    }
   },
   "outputs": [
    {
     "name": "stderr",
     "output_type": "stream",
     "text": [
      "C:\\Users\\Tania\\anaconda3\\lib\\site-packages\\IPython\\core\\interactiveshell.py:3063: DtypeWarning: Columns (33) have mixed types.Specify dtype option on import or set low_memory=False.\n",
      "  interactivity=interactivity, compiler=compiler, result=result)\n"
     ]
    },
    {
     "data": {
      "text/html": [
       "<div>\n",
       "<style scoped>\n",
       "    .dataframe tbody tr th:only-of-type {\n",
       "        vertical-align: middle;\n",
       "    }\n",
       "\n",
       "    .dataframe tbody tr th {\n",
       "        vertical-align: top;\n",
       "    }\n",
       "\n",
       "    .dataframe thead th {\n",
       "        text-align: right;\n",
       "    }\n",
       "</style>\n",
       "<table border=\"1\" class=\"dataframe\">\n",
       "  <thead>\n",
       "    <tr style=\"text-align: right;\">\n",
       "      <th></th>\n",
       "      <th>ï»¿SEVERITYCODE</th>\n",
       "      <th>X</th>\n",
       "      <th>Y</th>\n",
       "      <th>OBJECTID</th>\n",
       "      <th>INCKEY</th>\n",
       "      <th>COLDETKEY</th>\n",
       "      <th>REPORTNO</th>\n",
       "      <th>STATUS</th>\n",
       "      <th>ADDRTYPE</th>\n",
       "      <th>INTKEY</th>\n",
       "      <th>...</th>\n",
       "      <th>ROADCOND</th>\n",
       "      <th>LIGHTCOND</th>\n",
       "      <th>PEDROWNOTGRNT</th>\n",
       "      <th>SDOTCOLNUM</th>\n",
       "      <th>SPEEDING</th>\n",
       "      <th>ST_COLCODE</th>\n",
       "      <th>ST_COLDESC</th>\n",
       "      <th>SEGLANEKEY</th>\n",
       "      <th>CROSSWALKKEY</th>\n",
       "      <th>HITPARKEDCAR</th>\n",
       "    </tr>\n",
       "  </thead>\n",
       "  <tbody>\n",
       "    <tr>\n",
       "      <th>0</th>\n",
       "      <td>2</td>\n",
       "      <td>-122.323148</td>\n",
       "      <td>47.703140</td>\n",
       "      <td>1</td>\n",
       "      <td>1307</td>\n",
       "      <td>1307</td>\n",
       "      <td>3502005</td>\n",
       "      <td>Matched</td>\n",
       "      <td>Intersection</td>\n",
       "      <td>37475.0</td>\n",
       "      <td>...</td>\n",
       "      <td>Wet</td>\n",
       "      <td>Daylight</td>\n",
       "      <td>NaN</td>\n",
       "      <td>NaN</td>\n",
       "      <td>NaN</td>\n",
       "      <td>10</td>\n",
       "      <td>Entering at angle</td>\n",
       "      <td>0</td>\n",
       "      <td>0</td>\n",
       "      <td>N</td>\n",
       "    </tr>\n",
       "    <tr>\n",
       "      <th>1</th>\n",
       "      <td>1</td>\n",
       "      <td>-122.347294</td>\n",
       "      <td>47.647172</td>\n",
       "      <td>2</td>\n",
       "      <td>52200</td>\n",
       "      <td>52200</td>\n",
       "      <td>2607959</td>\n",
       "      <td>Matched</td>\n",
       "      <td>Block</td>\n",
       "      <td>NaN</td>\n",
       "      <td>...</td>\n",
       "      <td>Wet</td>\n",
       "      <td>Dark - Street Lights On</td>\n",
       "      <td>NaN</td>\n",
       "      <td>6354039.0</td>\n",
       "      <td>NaN</td>\n",
       "      <td>11</td>\n",
       "      <td>From same direction - both going straight - bo...</td>\n",
       "      <td>0</td>\n",
       "      <td>0</td>\n",
       "      <td>N</td>\n",
       "    </tr>\n",
       "    <tr>\n",
       "      <th>2</th>\n",
       "      <td>1</td>\n",
       "      <td>-122.334540</td>\n",
       "      <td>47.607871</td>\n",
       "      <td>3</td>\n",
       "      <td>26700</td>\n",
       "      <td>26700</td>\n",
       "      <td>1482393</td>\n",
       "      <td>Matched</td>\n",
       "      <td>Block</td>\n",
       "      <td>NaN</td>\n",
       "      <td>...</td>\n",
       "      <td>Dry</td>\n",
       "      <td>Daylight</td>\n",
       "      <td>NaN</td>\n",
       "      <td>4323031.0</td>\n",
       "      <td>NaN</td>\n",
       "      <td>32</td>\n",
       "      <td>One parked--one moving</td>\n",
       "      <td>0</td>\n",
       "      <td>0</td>\n",
       "      <td>N</td>\n",
       "    </tr>\n",
       "    <tr>\n",
       "      <th>3</th>\n",
       "      <td>1</td>\n",
       "      <td>-122.334803</td>\n",
       "      <td>47.604803</td>\n",
       "      <td>4</td>\n",
       "      <td>1144</td>\n",
       "      <td>1144</td>\n",
       "      <td>3503937</td>\n",
       "      <td>Matched</td>\n",
       "      <td>Block</td>\n",
       "      <td>NaN</td>\n",
       "      <td>...</td>\n",
       "      <td>Dry</td>\n",
       "      <td>Daylight</td>\n",
       "      <td>NaN</td>\n",
       "      <td>NaN</td>\n",
       "      <td>NaN</td>\n",
       "      <td>23</td>\n",
       "      <td>From same direction - all others</td>\n",
       "      <td>0</td>\n",
       "      <td>0</td>\n",
       "      <td>N</td>\n",
       "    </tr>\n",
       "    <tr>\n",
       "      <th>4</th>\n",
       "      <td>2</td>\n",
       "      <td>-122.306426</td>\n",
       "      <td>47.545739</td>\n",
       "      <td>5</td>\n",
       "      <td>17700</td>\n",
       "      <td>17700</td>\n",
       "      <td>1807429</td>\n",
       "      <td>Matched</td>\n",
       "      <td>Intersection</td>\n",
       "      <td>34387.0</td>\n",
       "      <td>...</td>\n",
       "      <td>Wet</td>\n",
       "      <td>Daylight</td>\n",
       "      <td>NaN</td>\n",
       "      <td>4028032.0</td>\n",
       "      <td>NaN</td>\n",
       "      <td>10</td>\n",
       "      <td>Entering at angle</td>\n",
       "      <td>0</td>\n",
       "      <td>0</td>\n",
       "      <td>N</td>\n",
       "    </tr>\n",
       "  </tbody>\n",
       "</table>\n",
       "<p>5 rows × 38 columns</p>\n",
       "</div>"
      ],
      "text/plain": [
       "   ï»¿SEVERITYCODE           X          Y  OBJECTID  INCKEY  COLDETKEY  \\\n",
       "0                2 -122.323148  47.703140         1    1307       1307   \n",
       "1                1 -122.347294  47.647172         2   52200      52200   \n",
       "2                1 -122.334540  47.607871         3   26700      26700   \n",
       "3                1 -122.334803  47.604803         4    1144       1144   \n",
       "4                2 -122.306426  47.545739         5   17700      17700   \n",
       "\n",
       "  REPORTNO   STATUS      ADDRTYPE   INTKEY  ... ROADCOND  \\\n",
       "0  3502005  Matched  Intersection  37475.0  ...      Wet   \n",
       "1  2607959  Matched         Block      NaN  ...      Wet   \n",
       "2  1482393  Matched         Block      NaN  ...      Dry   \n",
       "3  3503937  Matched         Block      NaN  ...      Dry   \n",
       "4  1807429  Matched  Intersection  34387.0  ...      Wet   \n",
       "\n",
       "                 LIGHTCOND PEDROWNOTGRNT  SDOTCOLNUM SPEEDING ST_COLCODE  \\\n",
       "0                 Daylight           NaN         NaN      NaN         10   \n",
       "1  Dark - Street Lights On           NaN   6354039.0      NaN         11   \n",
       "2                 Daylight           NaN   4323031.0      NaN         32   \n",
       "3                 Daylight           NaN         NaN      NaN         23   \n",
       "4                 Daylight           NaN   4028032.0      NaN         10   \n",
       "\n",
       "                                          ST_COLDESC  SEGLANEKEY  \\\n",
       "0                                  Entering at angle           0   \n",
       "1  From same direction - both going straight - bo...           0   \n",
       "2                             One parked--one moving           0   \n",
       "3                   From same direction - all others           0   \n",
       "4                                  Entering at angle           0   \n",
       "\n",
       "   CROSSWALKKEY  HITPARKEDCAR  \n",
       "0             0             N  \n",
       "1             0             N  \n",
       "2             0             N  \n",
       "3             0             N  \n",
       "4             0             N  \n",
       "\n",
       "[5 rows x 38 columns]"
      ]
     },
     "execution_count": 40,
     "metadata": {},
     "output_type": "execute_result"
    }
   ],
   "source": [
    "file=open(\"Data-Collisions.csv\")\n",
    "df = pd.read_csv(file)\n",
    "df_new=df\n",
    "df.head()"
   ]
  },
  {
   "cell_type": "markdown",
   "metadata": {
    "slideshow": {
     "slide_type": "slide"
    }
   },
   "source": [
    "Lets remove the columns that are not needed for data analysis. We will use the following 7 columns in our analysis."
   ]
  },
  {
   "cell_type": "code",
   "execution_count": 3,
   "metadata": {
    "hide_input": false,
    "slideshow": {
     "slide_type": "slide"
    }
   },
   "outputs": [],
   "source": [
    "df.drop(['X', 'Y', 'OBJECTID', 'INCKEY', 'COLDETKEY', 'REPORTNO',\n",
    "       'STATUS', 'ADDRTYPE', 'INTKEY', 'LOCATION', 'EXCEPTRSNCODE',\n",
    "       'EXCEPTRSNDESC', 'SEVERITYCODE', 'SEVERITYDESC', 'COLLISIONTYPE',\n",
    "       'PERSONCOUNT', 'PEDCOUNT', 'PEDCYLCOUNT', 'VEHCOUNT', 'INCDATE',\n",
    "       'INCDTTM', 'JUNCTIONTYPE', 'SDOT_COLCODE', 'SDOT_COLDESC', \n",
    "       'PEDROWNOTGRNT', 'SDOTCOLNUM', 'ST_COLCODE', 'ST_COLDESC',\n",
    "       'SEGLANEKEY', 'CROSSWALKKEY', 'HITPARKEDCAR'], axis=1, inplace=True)\n"
   ]
  },
  {
   "cell_type": "code",
   "execution_count": 4,
   "metadata": {
    "slideshow": {
     "slide_type": "slide"
    }
   },
   "outputs": [
    {
     "data": {
      "text/html": [
       "<div>\n",
       "<style scoped>\n",
       "    .dataframe tbody tr th:only-of-type {\n",
       "        vertical-align: middle;\n",
       "    }\n",
       "\n",
       "    .dataframe tbody tr th {\n",
       "        vertical-align: top;\n",
       "    }\n",
       "\n",
       "    .dataframe thead th {\n",
       "        text-align: right;\n",
       "    }\n",
       "</style>\n",
       "<table border=\"1\" class=\"dataframe\">\n",
       "  <thead>\n",
       "    <tr style=\"text-align: right;\">\n",
       "      <th></th>\n",
       "      <th>INATTENTIONIND</th>\n",
       "      <th>UNDERINFL</th>\n",
       "      <th>WEATHER</th>\n",
       "      <th>ROADCOND</th>\n",
       "      <th>LIGHTCOND</th>\n",
       "      <th>SPEEDING</th>\n",
       "      <th>SEVERITYCODE</th>\n",
       "    </tr>\n",
       "  </thead>\n",
       "  <tbody>\n",
       "    <tr>\n",
       "      <th>0</th>\n",
       "      <td>NaN</td>\n",
       "      <td>N</td>\n",
       "      <td>Overcast</td>\n",
       "      <td>Wet</td>\n",
       "      <td>Daylight</td>\n",
       "      <td>NaN</td>\n",
       "      <td>2</td>\n",
       "    </tr>\n",
       "    <tr>\n",
       "      <th>1</th>\n",
       "      <td>NaN</td>\n",
       "      <td>0</td>\n",
       "      <td>Raining</td>\n",
       "      <td>Wet</td>\n",
       "      <td>Dark - Street Lights On</td>\n",
       "      <td>NaN</td>\n",
       "      <td>1</td>\n",
       "    </tr>\n",
       "    <tr>\n",
       "      <th>2</th>\n",
       "      <td>NaN</td>\n",
       "      <td>0</td>\n",
       "      <td>Overcast</td>\n",
       "      <td>Dry</td>\n",
       "      <td>Daylight</td>\n",
       "      <td>NaN</td>\n",
       "      <td>1</td>\n",
       "    </tr>\n",
       "    <tr>\n",
       "      <th>3</th>\n",
       "      <td>NaN</td>\n",
       "      <td>N</td>\n",
       "      <td>Clear</td>\n",
       "      <td>Dry</td>\n",
       "      <td>Daylight</td>\n",
       "      <td>NaN</td>\n",
       "      <td>1</td>\n",
       "    </tr>\n",
       "    <tr>\n",
       "      <th>4</th>\n",
       "      <td>NaN</td>\n",
       "      <td>0</td>\n",
       "      <td>Raining</td>\n",
       "      <td>Wet</td>\n",
       "      <td>Daylight</td>\n",
       "      <td>NaN</td>\n",
       "      <td>2</td>\n",
       "    </tr>\n",
       "  </tbody>\n",
       "</table>\n",
       "</div>"
      ],
      "text/plain": [
       "  INATTENTIONIND UNDERINFL   WEATHER ROADCOND                LIGHTCOND  \\\n",
       "0            NaN         N  Overcast      Wet                 Daylight   \n",
       "1            NaN         0   Raining      Wet  Dark - Street Lights On   \n",
       "2            NaN         0  Overcast      Dry                 Daylight   \n",
       "3            NaN         N     Clear      Dry                 Daylight   \n",
       "4            NaN         0   Raining      Wet                 Daylight   \n",
       "\n",
       "  SPEEDING  SEVERITYCODE  \n",
       "0      NaN             2  \n",
       "1      NaN             1  \n",
       "2      NaN             1  \n",
       "3      NaN             1  \n",
       "4      NaN             2  "
      ]
     },
     "execution_count": 4,
     "metadata": {},
     "output_type": "execute_result"
    }
   ],
   "source": [
    "df['SEVERITYCODE']=df['ï»¿SEVERITYCODE']\n",
    "df.drop('ï»¿SEVERITYCODE', axis=1, inplace=True)\n",
    "df.head()"
   ]
  },
  {
   "cell_type": "markdown",
   "metadata": {
    "slideshow": {
     "slide_type": "slide"
    }
   },
   "source": [
    "There are many rows where the values for all columns are not inserted. The following table and graph shows \n",
    "how many datas are inserted for each column. As there are significant number of rows with null entry, we cant just delete these rows. Later We will replace these null values by some sumber."
   ]
  },
  {
   "cell_type": "code",
   "execution_count": 5,
   "metadata": {
    "slideshow": {
     "slide_type": "slide"
    }
   },
   "outputs": [
    {
     "data": {
      "image/png": "[encoded data removed]",
      "text/plain": [
       "<Figure size 720x432 with 1 Axes>"
      ]
     },
     "metadata": {
      "needs_background": "light"
     },
     "output_type": "display_data"
    }
   ],
   "source": [
    "df.describe(include='all')\n",
    "df2=df.describe(include='all').iloc[0,:].transpose().to_frame()\n",
    "df2.rename(columns={\"count\":\"  NO OF ENTRIES\"}, inplace=True)\n",
    "df2\n",
    "\n",
    "colors=random.choices(  list(mpl.colors.CSS4_COLORS.values()), k=7   )\n",
    "df2.plot(kind='bar', figsize=(10,6),color=colors)\n",
    "\n",
    "plt.title('Number of entries in each column', fontsize=16)\n",
    "plt.xlabel(\"Column Name\",fontsize=15)\n",
    "plt.ylabel(\"No of entries\",fontsize=15)\n",
    "plt.xticks(rotation=360)\n",
    "plt.show()\n"
   ]
  },
  {
   "cell_type": "markdown",
   "metadata": {
    "slideshow": {
     "slide_type": "slide"
    }
   },
   "source": [
    "## Balancing the Dataset"
   ]
  },
  {
   "cell_type": "code",
   "execution_count": 6,
   "metadata": {
    "slideshow": {
     "slide_type": "slide"
    }
   },
   "outputs": [],
   "source": [
    "def print_sev(df):\n",
    "    a=df.iloc[:,6].value_counts().to_frame()\n",
    "    print(a)\n",
    "    colors=['#5cb85c' , '#5bc0de']\n",
    "    ax=a.plot(kind='bar', figsize=(6, 4), width=0.8)\n",
    "    plt.title('Type of accidents in Seattle', fontsize=16)\n",
    "    plt.xlabel(\"SEVERITY TYPE\")\n",
    "    plt.ylabel(\"Frequency\",fontsize=15)\n",
    "    plt.xticks(rotation=360)\n",
    "    plt.show()\n"
   ]
  },
  {
   "cell_type": "markdown",
   "metadata": {
    "slideshow": {
     "slide_type": "slide"
    }
   },
   "source": [
    "Number of entries in SEVERITYCODE is given as follows"
   ]
  },
  {
   "cell_type": "code",
   "execution_count": 7,
   "metadata": {
    "slideshow": {
     "slide_type": "slide"
    }
   },
   "outputs": [
    {
     "name": "stdout",
     "output_type": "stream",
     "text": [
      "   SEVERITYCODE\n",
      "1        136485\n",
      "2         58188\n"
     ]
    },
    {
     "data": {
      "image/png": "[encoded data removed]",
      "text/plain": [
       "<Figure size 432x288 with 1 Axes>"
      ]
     },
     "metadata": {
      "needs_background": "light"
     },
     "output_type": "display_data"
    }
   ],
   "source": [
    "print_sev(df)"
   ]
  },
  {
   "cell_type": "markdown",
   "metadata": {
    "slideshow": {
     "slide_type": "slide"
    }
   },
   "source": [
    "We can see that dataset is unbalanced where the distribution of the target variable is in almost 1:3 ratio in favor of property damage. It is very important to have a balanced dataset when using machine learning algorithms. Hence, we reasmpled the data in order to balance the target variable in equal proportions in order to have an unbiased classification model which is trained on equal instances of both the elements under severity of accidents.\n"
   ]
  },
  {
   "cell_type": "code",
   "execution_count": 8,
   "metadata": {
    "slideshow": {
     "slide_type": "slide"
    }
   },
   "outputs": [
    {
     "name": "stdout",
     "output_type": "stream",
     "text": [
      "   SEVERITYCODE\n",
      "2         58188\n",
      "1         58188\n"
     ]
    },
    {
     "data": {
      "image/png": "[encoded data removed]",
      "text/plain": [
       "<Figure size 432x288 with 1 Axes>"
      ]
     },
     "metadata": {
      "needs_background": "light"
     },
     "output_type": "display_data"
    }
   ],
   "source": [
    "df_maj=df[df.SEVERITYCODE==1]\n",
    "df_min=df[df.SEVERITYCODE==2]\n",
    "df_maj_sample=resample(df_maj, replace=False,n_samples=58188, random_state=123)\n",
    "df=pd.concat([df_maj_sample, df_min])\n",
    "\n",
    "print_sev(df)\n"
   ]
  },
  {
   "cell_type": "markdown",
   "metadata": {
    "slideshow": {
     "slide_type": "slide"
    }
   },
   "source": [
    "## Converting Categorical features to Numerical values:\n",
    "We will now investigate each column, we will replace the categorial value of each feature by numerical value depending on the accident severity.For this conversion, we cant just depend on the values inserted in the columns. For example, in weather column, the weather condition \"Clear\" appears the most, but it does not mean that the clear weather result in most severe accidents. Most of the days in the year are clear, thats why it results in highest number of entries in weather column. SO we will see how many accidents will result in physical injusy. We will categorize each column into different groups and assign a number to each group depending on the ration of physical injury to total number of accidents."
   ]
  },
  {
   "cell_type": "code",
   "execution_count": 9,
   "metadata": {
    "slideshow": {
     "slide_type": "slide"
    }
   },
   "outputs": [],
   "source": [
    "def column_stat(n):\n",
    "    c=df.columns[n]\n",
    "    \n",
    "    number_null=df.iloc[:,n].isnull().sum()\n",
    "    print('Number of Null entries: ', number_null,'\\n')\n",
    "    \n",
    "    df.iloc[:,n].fillna(\"Null Entry\", inplace=True)\n",
    "\n",
    "    gr=df.groupby([c,'SEVERITYCODE']).size().reset_index()\n",
    "    s=gr.pivot(index=c, columns='SEVERITYCODE')\n",
    "    s.columns=['Property Damage ','Physical Injury']\n",
    "\n",
    "    print(s)\n",
    "    injury_per=s.iloc[:,1]*100/(s.iloc[:,0]+s.iloc[:,1])\n",
    "\n",
    "    colors=['#5cb85c' , '#5bc0de']\n",
    "    ax=s.plot(kind='bar', figsize=(6,4), width=0.8 , color=colors)\n",
    "    plt.title(c, fontsize=16)\n",
    "    plt.legend(fontsize=14)\n",
    "    plt.xticks(fontsize=14)\n",
    "    plt.show()\n",
    "    \n",
    "    colors=['#5cb75c']\n",
    "    ax2=injury_per.plot(kind='bar', figsize=(6,4), width=0.8 , color=colors)\n",
    "    plt.title(\"% of Physical Injury to total Physical injury+Property damage:\", fontsize=16)\n",
    "    plt.xticks(fontsize=14)\n",
    "    plt.show()"
   ]
  },
  {
   "cell_type": "markdown",
   "metadata": {},
   "source": [
    "### Column SEVERITYCODE"
   ]
  },
  {
   "cell_type": "code",
   "execution_count": 10,
   "metadata": {},
   "outputs": [
    {
     "name": "stdout",
     "output_type": "stream",
     "text": [
      "   SEVERITYCODE\n",
      "2         58188\n",
      "1         58188 \n",
      "\n",
      "Number of Null entries:  0 \n",
      "\n"
     ]
    }
   ],
   "source": [
    "a=df.iloc[:,6].value_counts().to_frame()\n",
    "print(a,'\\n')\n",
    "    \n",
    "number_null=df.iloc[:,6].isnull().sum()\n",
    "print('Number of Null entries: ', number_null,'\\n')\n"
   ]
  },
  {
   "cell_type": "markdown",
   "metadata": {
    "slideshow": {
     "slide_type": "slide"
    }
   },
   "source": [
    "The column SEVERITYTYPE does not need to change, there is no null value. We will use this severity code as the label of out model.\n"
   ]
  },
  {
   "cell_type": "markdown",
   "metadata": {},
   "source": [
    "### Column INATTENTIONIND "
   ]
  },
  {
   "cell_type": "code",
   "execution_count": 11,
   "metadata": {},
   "outputs": [
    {
     "name": "stdout",
     "output_type": "stream",
     "text": [
      "Number of Null entries:  97717 \n",
      "\n",
      "                Property Damage   Physical Injury\n",
      "INATTENTIONIND                                   \n",
      "Null Entry                 49926            47791\n",
      "Y                           8262            10397\n"
     ]
    },
    {
     "data": {
      "image/png": "[encoded data removed]",
      "text/plain": [
       "<Figure size 432x288 with 1 Axes>"
      ]
     },
     "metadata": {
      "needs_background": "light"
     },
     "output_type": "display_data"
    },
    {
     "data": {
      "image/png": "[encoded data removed]",
      "text/plain": [
       "<Figure size 432x288 with 1 Axes>"
      ]
     },
     "metadata": {
      "needs_background": "light"
     },
     "output_type": "display_data"
    }
   ],
   "source": [
    "column_stat(0)\n",
    " "
   ]
  },
  {
   "cell_type": "markdown",
   "metadata": {},
   "source": [
    "There are 97717 null entries in the column INATTENTIONIND. We can assume blank cell/ null entry means there was no such condition. Lets replace null values by 0 and 'Y' by 1."
   ]
  },
  {
   "cell_type": "code",
   "execution_count": 12,
   "metadata": {},
   "outputs": [
    {
     "name": "stdout",
     "output_type": "stream",
     "text": [
      "   INATTENTIONIND\n",
      "0           97717\n",
      "1           18659 \n",
      "\n"
     ]
    }
   ],
   "source": [
    "df.iloc[:,0].replace('Null Entry', 0, inplace=True)\n",
    "df.iloc[:,0].replace('Y', 1, inplace=True)\n",
    "\n",
    "a=df.iloc[:,0].value_counts().to_frame()\n",
    "print(a,'\\n')"
   ]
  },
  {
   "cell_type": "markdown",
   "metadata": {},
   "source": [
    "### Column UNDERINFL "
   ]
  },
  {
   "cell_type": "code",
   "execution_count": 13,
   "metadata": {},
   "outputs": [
    {
     "name": "stdout",
     "output_type": "stream",
     "text": [
      "Number of Null entries:  2693 \n",
      "\n",
      "            Property Damage   Physical Injury\n",
      "UNDERINFL                                    \n",
      "0                      24762            22701\n",
      "1                       1025             1623\n",
      "N                      29336            30896\n",
      "Null Entry              1664             1029\n",
      "Y                       1401             1939\n"
     ]
    },
    {
     "data": {
      "image/png": "[encoded data removed]",
      "text/plain": [
       "<Figure size 432x288 with 1 Axes>"
      ]
     },
     "metadata": {
      "needs_background": "light"
     },
     "output_type": "display_data"
    },
    {
     "data": {
      "image/png": "[encoded data removed]",
      "text/plain": [
       "<Figure size 432x288 with 1 Axes>"
      ]
     },
     "metadata": {
      "needs_background": "light"
     },
     "output_type": "display_data"
    }
   ],
   "source": [
    "column_stat(1)\n"
   ]
  },
  {
   "cell_type": "markdown",
   "metadata": {},
   "source": [
    "There are 2693 null entries in the column UNDERINFL, lets replace null values by 0, 'Y' by 1, 'N' by 0"
   ]
  },
  {
   "cell_type": "code",
   "execution_count": 14,
   "metadata": {},
   "outputs": [
    {
     "name": "stdout",
     "output_type": "stream",
     "text": [
      "   UNDERINFL\n",
      "0     110388\n",
      "1       5988 \n",
      "\n"
     ]
    }
   ],
   "source": [
    "df.iloc[:,1].replace(['Null Entry','0', 'N'], 0, inplace=True)\n",
    "df.iloc[:,1].replace(['Y', '1'], 1, inplace=True)\n",
    "\n",
    "\n",
    "a=df.iloc[:,1].value_counts().to_frame()\n",
    "print(a,'\\n')"
   ]
  },
  {
   "cell_type": "markdown",
   "metadata": {},
   "source": [
    "### Column WEATHER "
   ]
  },
  {
   "cell_type": "code",
   "execution_count": 15,
   "metadata": {},
   "outputs": [
    {
     "name": "stdout",
     "output_type": "stream",
     "text": [
      "Number of Null entries:  2816 \n",
      "\n",
      "                          Property Damage   Physical Injury\n",
      "WEATHER                                                    \n",
      "Blowing Sand/Dirt                       15               15\n",
      "Clear                                32106            35840\n",
      "Fog/Smog/Smoke                         168              187\n",
      "Null Entry                            1732             1084\n",
      "Other                                  290              116\n",
      "Overcast                              8089             8745\n",
      "Partly Cloudy                            1                3\n",
      "Raining                               9408            11176\n",
      "Severe Crosswind                         6                7\n",
      "Sleet/Hail/Freezing Rain                35               28\n",
      "Snowing                                303              171\n",
      "Unknown                               6035              816\n"
     ]
    },
    {
     "data": {
      "image/png": "[encoded data removed]",
      "text/plain": [
       "<Figure size 432x288 with 1 Axes>"
      ]
     },
     "metadata": {
      "needs_background": "light"
     },
     "output_type": "display_data"
    },
    {
     "data": {
      "image/png": "[encoded data removed]",
      "text/plain": [
       "<Figure size 432x288 with 1 Axes>"
      ]
     },
     "metadata": {
      "needs_background": "light"
     },
     "output_type": "display_data"
    }
   ],
   "source": [
    "column_stat(2)\n"
   ]
  },
  {
   "cell_type": "markdown",
   "metadata": {},
   "source": [
    "There are 2816 null entries in the column WEATHER. From the above graph we can categorize the weather condition into  9 different groups and assign a point in the range 0-8."
   ]
  },
  {
   "cell_type": "code",
   "execution_count": 16,
   "metadata": {},
   "outputs": [
    {
     "name": "stdout",
     "output_type": "stream",
     "text": [
      "   WEATHER\n",
      "7    67946\n",
      "6    20939\n",
      "5    16847\n",
      "0     6851\n",
      "2     2816\n",
      "3      474\n",
      "1      406\n",
      "4       93\n",
      "8        4 \n",
      "\n"
     ]
    }
   ],
   "source": [
    "df.iloc[:,2].replace(\"Unknown\",0, inplace=True)\n",
    "df.iloc[:,2].replace(\"Other\" ,1, inplace=True)\n",
    "df.iloc[:,2].replace(\"Null Entry\", 2, inplace=True)\n",
    "df.iloc[:,2].replace(\"Snowing\", 3, inplace=True)\n",
    "df.iloc[:,2].replace([\"Blowing Sand/Dirt\", \"Sleet/Hail/Freezing Rain\"], 4, inplace=True)\n",
    "df.iloc[:,2].replace([\"Overcast\", \"Severe Crosswind\"], 5, inplace=True)\n",
    "df.iloc[:,2].replace( [\"Raining\", \"Fog/Smog/Smoke\"], 6, inplace=True)\n",
    "df.iloc[:,2].replace(\"Clear\", 7, inplace=True)\n",
    "df.iloc[:,2].replace( \"Partly Cloudy\", 8, inplace=True)\n",
    "\n",
    "\n",
    "a=df.iloc[:,2].value_counts().to_frame()\n",
    "print(a,'\\n')\n",
    "\n",
    "\n",
    "\n",
    "\n"
   ]
  },
  {
   "cell_type": "markdown",
   "metadata": {},
   "source": [
    "### Column ROADCOND  "
   ]
  },
  {
   "cell_type": "code",
   "execution_count": 17,
   "metadata": {},
   "outputs": [
    {
     "name": "stdout",
     "output_type": "stream",
     "text": [
      "Number of Null entries:  2764 \n",
      "\n",
      "                Property Damage   Physical Injury\n",
      "ROADCOND                                         \n",
      "Dry                        35936            40064\n",
      "Ice                          405              273\n",
      "Null Entry                  1704             1060\n",
      "Oil                           15               24\n",
      "Other                         40               43\n",
      "Sand/Mud/Dirt                 24               23\n",
      "Snow/Slush                   361              167\n",
      "Standing Water                27               30\n",
      "Unknown                     6057              749\n",
      "Wet                        13619            15755\n"
     ]
    },
    {
     "data": {
      "image/png": "[encoded data removed]",
      "text/plain": [
       "<Figure size 432x288 with 1 Axes>"
      ]
     },
     "metadata": {
      "needs_background": "light"
     },
     "output_type": "display_data"
    },
    {
     "data": {
      "image/png": "[encoded data removed]",
      "text/plain": [
       "<Figure size 432x288 with 1 Axes>"
      ]
     },
     "metadata": {
      "needs_background": "light"
     },
     "output_type": "display_data"
    }
   ],
   "source": [
    "column_stat(3)\n"
   ]
  },
  {
   "cell_type": "markdown",
   "metadata": {},
   "source": [
    "There are 2764 null entries in the column ROADCOND. From the above graph we can categorize the weather condition into 9 different groups and assign a point in the range 0-8."
   ]
  },
  {
   "cell_type": "code",
   "execution_count": 18,
   "metadata": {},
   "outputs": [
    {
     "name": "stdout",
     "output_type": "stream",
     "text": [
      "   ROADCOND\n",
      "6     76000\n",
      "7     29431\n",
      "0      6806\n",
      "1      2764\n",
      "4       678\n",
      "3       528\n",
      "2        83\n",
      "5        47\n",
      "8        39 \n",
      "\n"
     ]
    }
   ],
   "source": [
    "df.iloc[:,3].replace( \"Unknown\", 0, inplace=True)\n",
    "df.iloc[:,3].replace( \"Null Entry\", 1, inplace=True)\n",
    "df.iloc[:,3].replace( \"Other\", 2, inplace=True)\n",
    "df.iloc[:,3].replace( \"Snow/Slush\", 3, inplace=True)\n",
    "df.iloc[:,3].replace(\"Ice\", 4, inplace=True)\n",
    "df.iloc[:,3].replace(\"Sand/Mud/Dirt\" , 5, inplace=True)\n",
    "df.iloc[:,3].replace(\"Dry\", 6, inplace=True)\n",
    "df.iloc[:,3].replace([\"Standing Water\", \"Wet\"], 7, inplace=True)\n",
    "df.iloc[:,3].replace(\"Oil\", 8, inplace=True)\n",
    "\n",
    "a=df.iloc[:,3].value_counts().to_frame()\n",
    "print(a,'\\n')\n",
    "\n"
   ]
  },
  {
   "cell_type": "markdown",
   "metadata": {},
   "source": [
    "### Column LIGHTCOND "
   ]
  },
  {
   "cell_type": "code",
   "execution_count": 19,
   "metadata": {},
   "outputs": [
    {
     "name": "stdout",
     "output_type": "stream",
     "text": [
      "Number of Null entries:  2848 \n",
      "\n",
      "                          Property Damage   Physical Injury\n",
      "LIGHTCOND                                                  \n",
      "Dark - No Street Lights                532              334\n",
      "Dark - Street Lights Off               387              316\n",
      "Dark - Street Lights On              14658            14475\n",
      "Dark - Unknown Lighting                  3                4\n",
      "Dawn                                   711              824\n",
      "Daylight                             32959            38544\n",
      "Dusk                                  1648             1944\n",
      "Null Entry                            1758             1090\n",
      "Other                                   75               52\n",
      "Unknown                               5457              605\n"
     ]
    },
    {
     "data": {
      "image/png": "[encoded data removed]",
      "text/plain": [
       "<Figure size 432x288 with 1 Axes>"
      ]
     },
     "metadata": {
      "needs_background": "light"
     },
     "output_type": "display_data"
    },
    {
     "data": {
      "image/png": "[encoded data removed]",
      "text/plain": [
       "<Figure size 432x288 with 1 Axes>"
      ]
     },
     "metadata": {
      "needs_background": "light"
     },
     "output_type": "display_data"
    }
   ],
   "source": [
    "column_stat(4)"
   ]
  },
  {
   "cell_type": "markdown",
   "metadata": {},
   "source": [
    "There are 2848 null entries in the column LIGHTCOND. From the above graph we can categorize the light condition into 7 different groups and assign a point in the range 0-6."
   ]
  },
  {
   "cell_type": "code",
   "execution_count": 20,
   "metadata": {},
   "outputs": [
    {
     "name": "stdout",
     "output_type": "stream",
     "text": [
      "   LIGHTCOND\n",
      "5      76630\n",
      "4      29133\n",
      "0       6062\n",
      "1       2975\n",
      "2        866\n",
      "3        703\n",
      "6          7 \n",
      "\n"
     ]
    }
   ],
   "source": [
    "df.iloc[:,4].replace( \"Unknown\", 0, inplace=True)\n",
    "df.iloc[:,4].replace([\"Null Entry\", \"Other\"], 1, inplace=True)\n",
    "df.iloc[:,4].replace(\"Dark - No Street Lights\", 2, inplace=True)\n",
    "df.iloc[:,4].replace( \"Dark - Street Lights Off\", 3, inplace=True)\n",
    "df.iloc[:,4].replace(\"Dark - Street Lights On\", 4, inplace=True)\n",
    "df.iloc[:,4].replace([\"Daylight\", \"Dusk\", \"Dawn\"], 5, inplace=True)\n",
    "df.iloc[:,4].replace(\"Dark - Unknown Lighting\", 6, inplace=True)\n",
    "\n",
    "\n",
    "a=df.iloc[:,4].value_counts().to_frame()\n",
    "print(a,'\\n')"
   ]
  },
  {
   "cell_type": "markdown",
   "metadata": {},
   "source": [
    "### Column SPEEDING"
   ]
  },
  {
   "cell_type": "code",
   "execution_count": 21,
   "metadata": {},
   "outputs": [
    {
     "name": "stdout",
     "output_type": "stream",
     "text": [
      "Number of Null entries:  110396 \n",
      "\n",
      "            Property Damage   Physical Injury\n",
      "SPEEDING                                     \n",
      "Null Entry             55739            54657\n",
      "Y                       2449             3531\n"
     ]
    },
    {
     "data": {
      "image/png": "[encoded data removed]",
      "text/plain": [
       "<Figure size 432x288 with 1 Axes>"
      ]
     },
     "metadata": {
      "needs_background": "light"
     },
     "output_type": "display_data"
    },
    {
     "data": {
      "image/png": "[encoded data removed]",
      "text/plain": [
       "<Figure size 432x288 with 1 Axes>"
      ]
     },
     "metadata": {
      "needs_background": "light"
     },
     "output_type": "display_data"
    }
   ],
   "source": [
    "column_stat(5)"
   ]
  },
  {
   "cell_type": "markdown",
   "metadata": {},
   "source": [
    "There are 110396 null entries in the column SPEEDING. We can assume blank cell/ null entry means there was no such condition. Lets replace null values by 0 and 'Y' by 1."
   ]
  },
  {
   "cell_type": "code",
   "execution_count": 22,
   "metadata": {},
   "outputs": [
    {
     "name": "stdout",
     "output_type": "stream",
     "text": [
      "   SPEEDING\n",
      "0    110396\n",
      "1      5980 \n",
      "\n"
     ]
    }
   ],
   "source": [
    "df.iloc[:,5].replace('Null Entry', 0, inplace=True)\n",
    "df.iloc[:,5].replace('Y', 1, inplace=True)\n",
    "\n",
    "\n",
    "a=df.iloc[:,5].value_counts().to_frame()\n",
    "print(a,'\\n')"
   ]
  },
  {
   "cell_type": "markdown",
   "metadata": {},
   "source": [
    "### Correlation between diffeternt columns"
   ]
  },
  {
   "cell_type": "code",
   "execution_count": 23,
   "metadata": {},
   "outputs": [
    {
     "data": {
      "text/html": [
       "<div>\n",
       "<style scoped>\n",
       "    .dataframe tbody tr th:only-of-type {\n",
       "        vertical-align: middle;\n",
       "    }\n",
       "\n",
       "    .dataframe tbody tr th {\n",
       "        vertical-align: top;\n",
       "    }\n",
       "\n",
       "    .dataframe thead th {\n",
       "        text-align: right;\n",
       "    }\n",
       "</style>\n",
       "<table border=\"1\" class=\"dataframe\">\n",
       "  <thead>\n",
       "    <tr style=\"text-align: right;\">\n",
       "      <th></th>\n",
       "      <th>INATTENTIONIND</th>\n",
       "      <th>UNDERINFL</th>\n",
       "      <th>WEATHER</th>\n",
       "      <th>ROADCOND</th>\n",
       "      <th>LIGHTCOND</th>\n",
       "      <th>SPEEDING</th>\n",
       "      <th>SEVERITYCODE</th>\n",
       "    </tr>\n",
       "  </thead>\n",
       "  <tbody>\n",
       "    <tr>\n",
       "      <th>INATTENTIONIND</th>\n",
       "      <td>1.000000</td>\n",
       "      <td>-0.033188</td>\n",
       "      <td>0.096425</td>\n",
       "      <td>0.085185</td>\n",
       "      <td>0.107399</td>\n",
       "      <td>-0.051636</td>\n",
       "      <td>0.050000</td>\n",
       "    </tr>\n",
       "    <tr>\n",
       "      <th>UNDERINFL</th>\n",
       "      <td>-0.033188</td>\n",
       "      <td>1.000000</td>\n",
       "      <td>0.059519</td>\n",
       "      <td>0.065540</td>\n",
       "      <td>-0.032940</td>\n",
       "      <td>0.100824</td>\n",
       "      <td>0.044185</td>\n",
       "    </tr>\n",
       "    <tr>\n",
       "      <th>WEATHER</th>\n",
       "      <td>0.096425</td>\n",
       "      <td>0.059519</td>\n",
       "      <td>1.000000</td>\n",
       "      <td>0.756772</td>\n",
       "      <td>0.657270</td>\n",
       "      <td>0.027109</td>\n",
       "      <td>0.179374</td>\n",
       "    </tr>\n",
       "    <tr>\n",
       "      <th>ROADCOND</th>\n",
       "      <td>0.085185</td>\n",
       "      <td>0.065540</td>\n",
       "      <td>0.756772</td>\n",
       "      <td>1.000000</td>\n",
       "      <td>0.666291</td>\n",
       "      <td>0.070574</td>\n",
       "      <td>0.189786</td>\n",
       "    </tr>\n",
       "    <tr>\n",
       "      <th>LIGHTCOND</th>\n",
       "      <td>0.107399</td>\n",
       "      <td>-0.032940</td>\n",
       "      <td>0.657270</td>\n",
       "      <td>0.666291</td>\n",
       "      <td>1.000000</td>\n",
       "      <td>0.021356</td>\n",
       "      <td>0.187863</td>\n",
       "    </tr>\n",
       "    <tr>\n",
       "      <th>SPEEDING</th>\n",
       "      <td>-0.051636</td>\n",
       "      <td>0.100824</td>\n",
       "      <td>0.027109</td>\n",
       "      <td>0.070574</td>\n",
       "      <td>0.021356</td>\n",
       "      <td>1.000000</td>\n",
       "      <td>0.042111</td>\n",
       "    </tr>\n",
       "    <tr>\n",
       "      <th>SEVERITYCODE</th>\n",
       "      <td>0.050000</td>\n",
       "      <td>0.044185</td>\n",
       "      <td>0.179374</td>\n",
       "      <td>0.189786</td>\n",
       "      <td>0.187863</td>\n",
       "      <td>0.042111</td>\n",
       "      <td>1.000000</td>\n",
       "    </tr>\n",
       "  </tbody>\n",
       "</table>\n",
       "</div>"
      ],
      "text/plain": [
       "                INATTENTIONIND  UNDERINFL   WEATHER  ROADCOND  LIGHTCOND  \\\n",
       "INATTENTIONIND        1.000000  -0.033188  0.096425  0.085185   0.107399   \n",
       "UNDERINFL            -0.033188   1.000000  0.059519  0.065540  -0.032940   \n",
       "WEATHER               0.096425   0.059519  1.000000  0.756772   0.657270   \n",
       "ROADCOND              0.085185   0.065540  0.756772  1.000000   0.666291   \n",
       "LIGHTCOND             0.107399  -0.032940  0.657270  0.666291   1.000000   \n",
       "SPEEDING             -0.051636   0.100824  0.027109  0.070574   0.021356   \n",
       "SEVERITYCODE          0.050000   0.044185  0.179374  0.189786   0.187863   \n",
       "\n",
       "                SPEEDING  SEVERITYCODE  \n",
       "INATTENTIONIND -0.051636      0.050000  \n",
       "UNDERINFL       0.100824      0.044185  \n",
       "WEATHER         0.027109      0.179374  \n",
       "ROADCOND        0.070574      0.189786  \n",
       "LIGHTCOND       0.021356      0.187863  \n",
       "SPEEDING        1.000000      0.042111  \n",
       "SEVERITYCODE    0.042111      1.000000  "
      ]
     },
     "execution_count": 23,
     "metadata": {},
     "output_type": "execute_result"
    }
   ],
   "source": [
    "df.corr()"
   ]
  },
  {
   "cell_type": "markdown",
   "metadata": {},
   "source": [
    "From the correlation table, we can see that, there is a strong relation between Weather, Road Condition and Light Condition"
   ]
  },
  {
   "cell_type": "markdown",
   "metadata": {},
   "source": [
    "### Feature Selection"
   ]
  },
  {
   "cell_type": "markdown",
   "metadata": {},
   "source": [
    "The following columns will be used as features in our model."
   ]
  },
  {
   "cell_type": "code",
   "execution_count": 24,
   "metadata": {},
   "outputs": [
    {
     "data": {
      "text/html": [
       "<div>\n",
       "<style scoped>\n",
       "    .dataframe tbody tr th:only-of-type {\n",
       "        vertical-align: middle;\n",
       "    }\n",
       "\n",
       "    .dataframe tbody tr th {\n",
       "        vertical-align: top;\n",
       "    }\n",
       "\n",
       "    .dataframe thead th {\n",
       "        text-align: right;\n",
       "    }\n",
       "</style>\n",
       "<table border=\"1\" class=\"dataframe\">\n",
       "  <thead>\n",
       "    <tr style=\"text-align: right;\">\n",
       "      <th></th>\n",
       "      <th>INATTENTIONIND</th>\n",
       "      <th>UNDERINFL</th>\n",
       "      <th>WEATHER</th>\n",
       "      <th>ROADCOND</th>\n",
       "      <th>LIGHTCOND</th>\n",
       "      <th>SPEEDING</th>\n",
       "    </tr>\n",
       "  </thead>\n",
       "  <tbody>\n",
       "    <tr>\n",
       "      <th>25055</th>\n",
       "      <td>0</td>\n",
       "      <td>0</td>\n",
       "      <td>6</td>\n",
       "      <td>7</td>\n",
       "      <td>4</td>\n",
       "      <td>0</td>\n",
       "    </tr>\n",
       "    <tr>\n",
       "      <th>65280</th>\n",
       "      <td>0</td>\n",
       "      <td>0</td>\n",
       "      <td>7</td>\n",
       "      <td>6</td>\n",
       "      <td>5</td>\n",
       "      <td>0</td>\n",
       "    </tr>\n",
       "    <tr>\n",
       "      <th>86292</th>\n",
       "      <td>0</td>\n",
       "      <td>0</td>\n",
       "      <td>0</td>\n",
       "      <td>0</td>\n",
       "      <td>0</td>\n",
       "      <td>0</td>\n",
       "    </tr>\n",
       "    <tr>\n",
       "      <th>155111</th>\n",
       "      <td>0</td>\n",
       "      <td>0</td>\n",
       "      <td>7</td>\n",
       "      <td>6</td>\n",
       "      <td>5</td>\n",
       "      <td>0</td>\n",
       "    </tr>\n",
       "    <tr>\n",
       "      <th>64598</th>\n",
       "      <td>0</td>\n",
       "      <td>0</td>\n",
       "      <td>7</td>\n",
       "      <td>6</td>\n",
       "      <td>5</td>\n",
       "      <td>0</td>\n",
       "    </tr>\n",
       "  </tbody>\n",
       "</table>\n",
       "</div>"
      ],
      "text/plain": [
       "        INATTENTIONIND  UNDERINFL  WEATHER  ROADCOND  LIGHTCOND  SPEEDING\n",
       "25055                0          0        6         7          4         0\n",
       "65280                0          0        7         6          5         0\n",
       "86292                0          0        0         0          0         0\n",
       "155111               0          0        7         6          5         0\n",
       "64598                0          0        7         6          5         0"
      ]
     },
     "execution_count": 24,
     "metadata": {},
     "output_type": "execute_result"
    }
   ],
   "source": [
    "X=df[[ 'INATTENTIONIND', 'UNDERINFL', 'WEATHER', 'ROADCOND',  'LIGHTCOND', 'SPEEDING']]\n",
    "y=df['SEVERITYCODE']\n",
    "\n",
    "X[0:5]\n",
    "\n"
   ]
  },
  {
   "cell_type": "markdown",
   "metadata": {
    "slideshow": {
     "slide_type": "slide"
    }
   },
   "source": [
    "### Label Selection"
   ]
  },
  {
   "cell_type": "markdown",
   "metadata": {
    "slideshow": {
     "slide_type": "slide"
    }
   },
   "source": [
    "The column SEVERITYCODE will be used as our label. SO there will be 2 labels: label 1 and label 2."
   ]
  },
  {
   "cell_type": "markdown",
   "metadata": {
    "slideshow": {
     "slide_type": "slide"
    }
   },
   "source": [
    "### Normalize Data"
   ]
  },
  {
   "cell_type": "markdown",
   "metadata": {
    "slideshow": {
     "slide_type": "slide"
    }
   },
   "source": [
    "We will normalize the features  before developing the model. The first 5 rows of normalized featured data is as follows-"
   ]
  },
  {
   "cell_type": "code",
   "execution_count": 25,
   "metadata": {},
   "outputs": [
    {
     "data": {
      "text/plain": [
       "array([[-0.43697754, -0.23290562,  0.02297305,  0.72225251, -0.27587799,\n",
       "        -0.23274155],\n",
       "       [-0.43697754, -0.23290562,  0.56847646,  0.14194529,  0.50649789,\n",
       "        -0.23274155],\n",
       "       [-0.43697754, -0.23290562, -3.25004737, -3.33989801, -3.40538151,\n",
       "        -0.23274155],\n",
       "       [-0.43697754, -0.23290562,  0.56847646,  0.14194529,  0.50649789,\n",
       "        -0.23274155],\n",
       "       [-0.43697754, -0.23290562,  0.56847646,  0.14194529,  0.50649789,\n",
       "        -0.23274155]])"
      ]
     },
     "execution_count": 25,
     "metadata": {},
     "output_type": "execute_result"
    }
   ],
   "source": [
    "X= preprocessing.StandardScaler().fit_transform(X)\n",
    "X[0:5]"
   ]
  },
  {
   "cell_type": "markdown",
   "metadata": {
    "slideshow": {
     "slide_type": "slide"
    }
   },
   "source": [
    "### Dividing data into training set and test set\n",
    "In order to develop a model for predicting accident severity, the resampled, cleaned dataset was split in to testing and training sub-samples (containing 30% and 70% of the samples, respectively) using the scikit learn “train_test_split” method."
   ]
  },
  {
   "cell_type": "code",
   "execution_count": 26,
   "metadata": {},
   "outputs": [],
   "source": [
    "x_train, x_test, y_train, y_test= train_test_split(X, y, test_size=0.3 , random_state=2)"
   ]
  },
  {
   "cell_type": "markdown",
   "metadata": {
    "slideshow": {
     "slide_type": "slide"
    }
   },
   "source": [
    "#  <font color=blue> Machine Learning Models: Classification </font>\n",
    "\n",
    "We will use the training set to build an accurate model. Then use the test set to report the accuracy of the model.\n",
    "\n",
    "We will use the following algorithm:\n",
    "- K Nearest Neighbor(KNN)\n",
    "- Decision Tree\n",
    "- Logistic Regression\n",
    "\n",
    "Support Vector Machine will not be used as this algorithm is ussed for small dataset."
   ]
  },
  {
   "cell_type": "markdown",
   "metadata": {},
   "source": [
    "## K Nearest Neighbor(KNN)\n",
    "\n",
    "KNN will help us predict the severity code of an outcome by finding the most similar to data point within k distance.\n",
    "\n",
    "We will first find the best k to build the model with the best accuracy."
   ]
  },
  {
   "cell_type": "code",
   "execution_count": 27,
   "metadata": {},
   "outputs": [
    {
     "name": "stdout",
     "output_type": "stream",
     "text": [
      "K=  12  ,Accuracy Score=  0.5191762380775069 , F1 Score=  0.4667196901947999\n",
      "K=  13  ,Accuracy Score=  0.5359035316357804 , F1 Score=  0.5333447086160248\n",
      "K=  14  ,Accuracy Score=  0.5166843296193395 , F1 Score=  0.4676649660358987\n",
      "K=  15  ,Accuracy Score=  0.522470140062441 , F1 Score=  0.49584148775223524\n",
      "K=  16  ,Accuracy Score=  0.5220691432990576 , F1 Score=  0.4765245571776488\n",
      "K=  17  ,Accuracy Score=  0.515853693466617 , F1 Score=  0.5088676541335826\n",
      "K=  18  ,Accuracy Score=  0.5249906911465643 , F1 Score=  0.4962442609245468\n"
     ]
    }
   ],
   "source": [
    "for  k in range(12,19):\n",
    "    clf=KNeighborsClassifier(n_neighbors=k)\n",
    "    clf.fit(x_train, y_train)\n",
    "    y_pred= clf.predict(x_test)\n",
    "    print(\"K= \", k ,\" ,Accuracy Score= \" , accuracy_score(y_test, y_pred),\", F1 Score= \" , f1_score(y_test, y_pred, average='weighted'))  "
   ]
  },
  {
   "cell_type": "markdown",
   "metadata": {},
   "source": [
    "We can see that for *k=13*, KNeighborsClassifier is giving the best F1 score. Lets build the KNN model with k=13"
   ]
  },
  {
   "cell_type": "code",
   "execution_count": 28,
   "metadata": {},
   "outputs": [
    {
     "name": "stdout",
     "output_type": "stream",
     "text": [
      "For K= 13 , Accuracy Score= 0.5359035316357804 , Jaccard Score= 0.5359035316357804 , F1 Score=  0.5333447086160248\n"
     ]
    },
    {
     "name": "stderr",
     "output_type": "stream",
     "text": [
      "C:\\Users\\Tania\\anaconda3\\lib\\site-packages\\sklearn\\metrics\\_classification.py:664: FutureWarning: jaccard_similarity_score has been deprecated and replaced with jaccard_score. It will be removed in version 0.23. This implementation has surprising behavior for binary and multiclass classification tasks.\n",
      "  FutureWarning)\n"
     ]
    }
   ],
   "source": [
    "best_knn=KNeighborsClassifier(n_neighbors=13)\n",
    "best_knn.fit(x_train, y_train)\n",
    "y_pred= best_knn.predict(x_test)\n",
    "print(\"For K=\", 13 ,\", Accuracy Score=\" , accuracy_score(y_test, y_pred), \", Jaccard Score=\", jaccard_similarity_score(y_test, y_pred), \", F1 Score= \", f1_score(y_test, y_pred, average='weighted'))  \n"
   ]
  },
  {
   "cell_type": "markdown",
   "metadata": {},
   "source": [
    "## Decision Tree\n",
    "\n",
    "A decision tree model gives us a layout of all possible outcomes so we can fully analyze the concequences of a decision. It context, the decision tree observes all possible outcomes of different weather conditions."
   ]
  },
  {
   "cell_type": "code",
   "execution_count": 29,
   "metadata": {},
   "outputs": [
    {
     "name": "stdout",
     "output_type": "stream",
     "text": [
      "Max Depth=  1 , Accuracy Score=  0.5451550998195515 , F1 Score=  0.4359419322700957\n",
      "Max Depth=  2 , Accuracy Score=  0.5587030618967147 , F1 Score=  0.4754656341244437\n",
      "Max Depth=  3 , Accuracy Score=  0.5586744192707588 , F1 Score=  0.47538895933312886\n",
      "Max Depth=  4 , Accuracy Score=  0.5670380660498955 , F1 Score=  0.5520076852738023\n",
      "Max Depth=  5 , Accuracy Score=  0.5703606106607854 , F1 Score=  0.5494107069975682\n",
      "Max Depth=  6 , Accuracy Score=  0.5705038237905651 , F1 Score=  0.5511519243168462\n",
      "Max Depth=  7 , Accuracy Score=  0.5714776730730673 , F1 Score=  0.534849820934144\n",
      "Max Depth=  8 , Accuracy Score=  0.5724515223555695 , F1 Score=  0.5376757179851738\n",
      "Max Depth=  9 , Accuracy Score=  0.5726520207372612 , F1 Score=  0.5408474598884503\n",
      "Max Depth=  10 , Accuracy Score=  0.5729670896227766 , F1 Score=  0.5406561558634732\n"
     ]
    }
   ],
   "source": [
    "for  k in range(1,11):\n",
    "    clf=DecisionTreeClassifier(criterion=\"entropy\", max_depth=k)\n",
    "    clf.fit(x_train, y_train)\n",
    "    y_pred= clf.predict(x_test)\n",
    "    print(\"Max Depth= \", k, \", Accuracy Score= \" , accuracy_score(y_test, y_pred),\", F1 Score= \" , f1_score(y_test, y_pred, average='weighted'))"
   ]
  },
  {
   "cell_type": "markdown",
   "metadata": {},
   "source": [
    "We can see that for *Max Depth=6*, DecisionTreeClassifier is giving the best result. Lets build the Tree Classifier model with max depth=6"
   ]
  },
  {
   "cell_type": "code",
   "execution_count": 30,
   "metadata": {},
   "outputs": [
    {
     "name": "stdout",
     "output_type": "stream",
     "text": [
      "For Maximum Depth= 6 , Accuracy Score= 0.5705038237905651 , Jaccard Score= 0.5705038237905651 , F1 Score=  0.5511519243168462\n"
     ]
    },
    {
     "name": "stderr",
     "output_type": "stream",
     "text": [
      "C:\\Users\\Tania\\anaconda3\\lib\\site-packages\\sklearn\\metrics\\_classification.py:664: FutureWarning: jaccard_similarity_score has been deprecated and replaced with jaccard_score. It will be removed in version 0.23. This implementation has surprising behavior for binary and multiclass classification tasks.\n",
      "  FutureWarning)\n"
     ]
    }
   ],
   "source": [
    "best_tree=DecisionTreeClassifier(criterion=\"entropy\", max_depth=6)\n",
    "best_tree.fit(x_train, y_train)\n",
    "y_pred= best_tree.predict(x_test)\n",
    "print(\"For Maximum Depth=\", 6 ,\", Accuracy Score=\" , accuracy_score(y_test, y_pred), \", Jaccard Score=\", jaccard_similarity_score(y_test, y_pred), \", F1 Score= \", f1_score(y_test, y_pred, average='weighted'))  "
   ]
  },
  {
   "cell_type": "markdown",
   "metadata": {},
   "source": [
    "## Logistic Regression\n",
    "\n",
    "Because our dataset only provides us with two severity code outcomes, our model will only predict one of those two classes. This makes our data binary, which is perfect to use with logistic regression."
   ]
  },
  {
   "cell_type": "code",
   "execution_count": 31,
   "metadata": {},
   "outputs": [
    {
     "name": "stdout",
     "output_type": "stream",
     "text": [
      "For solver: lbfgs , Log loss=  0.6664525059380347 , F1 Score=  0.5492367655690457\n",
      "For solver: saga , Log loss=  0.6664524287358007 , F1 Score=  0.5492367655690457\n",
      "For solver: liblinear , Log loss=  0.6664528829319477 , F1 Score=  0.5492367655690457\n",
      "For solver: newton-cg , Log loss=  0.6664524759351989 , F1 Score=  0.5492367655690457\n",
      "For solver: sag , Log loss=  0.666452547454923 , F1 Score=  0.5492367655690457\n"
     ]
    }
   ],
   "source": [
    "for  k in ('lbfgs', 'saga', 'liblinear', 'newton-cg', 'sag'):\n",
    "    clf=LogisticRegression(C=0.01, solver=k)\n",
    "    clf.fit(x_train, y_train)\n",
    "    y_pred= clf.predict(x_test)\n",
    "    y_pred2= clf.predict_proba(x_test)\n",
    "    print(\"For solver:\", k ,\", Log loss= \" , log_loss(y_test, y_pred2),\", F1 Score= \" , f1_score(y_test, y_pred, average='weighted')) \n"
   ]
  },
  {
   "cell_type": "markdown",
   "metadata": {},
   "source": [
    "We can see that for all solvers, logistic regression is giving the same result. We will choose *liblinear* method for logistic regression. Lets see the effect of regularization on this model."
   ]
  },
  {
   "cell_type": "code",
   "execution_count": 32,
   "metadata": {},
   "outputs": [
    {
     "name": "stdout",
     "output_type": "stream",
     "text": [
      "For regularization: 0.001 , Log loss=  0.666559065215783 , F1 Score=  0.5491034805500915\n",
      "For regularization: 0.01 , Log loss=  0.6664528829319477 , F1 Score=  0.5492367655690457\n",
      "For regularization: 0.1 , Log loss=  0.6664443445515155 , F1 Score=  0.5492367655690457\n"
     ]
    }
   ],
   "source": [
    "for  c in (0.001, 0.01, 0.1):\n",
    "    clf=LogisticRegression(C=c, solver='liblinear')\n",
    "    clf.fit(x_train, y_train)\n",
    "    y_pred= clf.predict(x_test)\n",
    "    y_pred2= clf.predict_proba(x_test)\n",
    "    print(\"For regularization:\", c ,\", Log loss= \" , log_loss(y_test, y_pred2),\", F1 Score= \" , f1_score(y_test, y_pred, average='weighted')) \n"
   ]
  },
  {
   "cell_type": "markdown",
   "metadata": {},
   "source": [
    "For logistic regression, we will choose liblinear solver with *C=0.001*.\n"
   ]
  },
  {
   "cell_type": "code",
   "execution_count": 33,
   "metadata": {},
   "outputs": [
    {
     "name": "stdout",
     "output_type": "stream",
     "text": [
      "For liblinear: Accuracy Score=  0.5709334631799043 , Jaccard Score= 0.5709334631799043 , F1 Score=  0.5491034805500915\n"
     ]
    },
    {
     "name": "stderr",
     "output_type": "stream",
     "text": [
      "C:\\Users\\Tania\\anaconda3\\lib\\site-packages\\sklearn\\metrics\\_classification.py:664: FutureWarning: jaccard_similarity_score has been deprecated and replaced with jaccard_score. It will be removed in version 0.23. This implementation has surprising behavior for binary and multiclass classification tasks.\n",
      "  FutureWarning)\n"
     ]
    }
   ],
   "source": [
    "best_lr=LogisticRegression(C=0.001, solver='liblinear')\n",
    "best_lr.fit(x_train, y_train)\n",
    "y_pred= best_lr.predict(x_test)\n",
    "print(\"For liblinear: Accuracy Score= \" , accuracy_score(y_test, y_pred), \", Jaccard Score=\", jaccard_similarity_score(y_test, y_pred), \", F1 Score= \", f1_score(y_test, y_pred, average='weighted'))  \n"
   ]
  },
  {
   "cell_type": "code",
   "execution_count": 34,
   "metadata": {},
   "outputs": [
    {
     "name": "stderr",
     "output_type": "stream",
     "text": [
      "C:\\Users\\Tania\\anaconda3\\lib\\site-packages\\sklearn\\metrics\\_classification.py:664: FutureWarning: jaccard_similarity_score has been deprecated and replaced with jaccard_score. It will be removed in version 0.23. This implementation has surprising behavior for binary and multiclass classification tasks.\n",
      "  FutureWarning)\n",
      "C:\\Users\\Tania\\anaconda3\\lib\\site-packages\\sklearn\\metrics\\_classification.py:664: FutureWarning: jaccard_similarity_score has been deprecated and replaced with jaccard_score. It will be removed in version 0.23. This implementation has surprising behavior for binary and multiclass classification tasks.\n",
      "  FutureWarning)\n",
      "C:\\Users\\Tania\\anaconda3\\lib\\site-packages\\sklearn\\metrics\\_classification.py:664: FutureWarning: jaccard_similarity_score has been deprecated and replaced with jaccard_score. It will be removed in version 0.23. This implementation has surprising behavior for binary and multiclass classification tasks.\n",
      "  FutureWarning)\n"
     ]
    }
   ],
   "source": [
    "J_list=[]\n",
    "F_list=[]\n",
    "L_list=[]\n",
    "\n",
    "# KNN\n",
    "y_pred=best_knn.predict(x_test)\n",
    "J1=jaccard_similarity_score(y_test, y_pred) \n",
    "F1= f1_score(y_test, y_pred, average='weighted')\n",
    "L1='NA'\n",
    "J_list.append(J1)\n",
    "F_list.append(F1)\n",
    "L_list.append(L1)\n",
    "\n",
    "# Decision Tree Classifier\n",
    "y_pred=best_tree.predict(x_test)\n",
    "J2=jaccard_similarity_score(y_test, y_pred) \n",
    "F2= f1_score(y_test, y_pred, average='weighted')\n",
    "L2='NA'\n",
    "J_list.append(J2)\n",
    "F_list.append(F2)\n",
    "L_list.append(L2)\n",
    "\n",
    "\n",
    "# Logistic Regression\n",
    "y_pred=best_lr.predict(x_test)\n",
    "J3=jaccard_similarity_score(y_test, y_pred) \n",
    "F3= f1_score(y_test, y_pred, average='weighted')\n",
    "L3=log_loss(y_test, best_lr.predict_proba(x_test))\n",
    "J_list.append(J3)\n",
    "F_list.append(F3)\n",
    "L_list.append(round(L3,2))\n"
   ]
  },
  {
   "cell_type": "markdown",
   "metadata": {
    "slideshow": {
     "slide_type": "slide"
    }
   },
   "source": [
    "# <font color=blue> Results </font>\n",
    "\n",
    "\n"
   ]
  },
  {
   "cell_type": "code",
   "execution_count": 35,
   "metadata": {},
   "outputs": [
    {
     "data": {
      "text/html": [
       "<div>\n",
       "<style scoped>\n",
       "    .dataframe tbody tr th:only-of-type {\n",
       "        vertical-align: middle;\n",
       "    }\n",
       "\n",
       "    .dataframe tbody tr th {\n",
       "        vertical-align: top;\n",
       "    }\n",
       "\n",
       "    .dataframe thead th {\n",
       "        text-align: right;\n",
       "    }\n",
       "</style>\n",
       "<table border=\"1\" class=\"dataframe\">\n",
       "  <thead>\n",
       "    <tr style=\"text-align: right;\">\n",
       "      <th>Algorithm</th>\n",
       "      <th>Jaccard</th>\n",
       "      <th>F1-score</th>\n",
       "      <th>Logloss</th>\n",
       "    </tr>\n",
       "  </thead>\n",
       "  <tbody>\n",
       "    <tr>\n",
       "      <th>KNN</th>\n",
       "      <td>0.54</td>\n",
       "      <td>0.53</td>\n",
       "      <td>NA</td>\n",
       "    </tr>\n",
       "    <tr>\n",
       "      <th>Decision Tree</th>\n",
       "      <td>0.57</td>\n",
       "      <td>0.55</td>\n",
       "      <td>NA</td>\n",
       "    </tr>\n",
       "    <tr>\n",
       "      <th>Logistic Regression</th>\n",
       "      <td>0.57</td>\n",
       "      <td>0.55</td>\n",
       "      <td>0.67</td>\n",
       "    </tr>\n",
       "  </tbody>\n",
       "</table>\n",
       "</div>"
      ],
      "text/plain": [
       "Algorithm           Jaccard F1-score Logloss\n",
       "KNN                    0.54     0.53      NA\n",
       "Decision Tree          0.57     0.55      NA\n",
       "Logistic Regression    0.57     0.55    0.67"
      ]
     },
     "execution_count": 35,
     "metadata": {},
     "output_type": "execute_result"
    }
   ],
   "source": [
    "columns = ['KNN', 'Decision Tree', 'Logistic Regression']\n",
    "index = ['Jaccard', 'F1-score', 'Logloss']\n",
    "\n",
    "J_list =  [round(x,2) for x in J_list]\n",
    "F_list =  [round(x,2) for x in F_list]\n",
    "\n",
    "\n",
    "accuracy_df = pd.DataFrame([J_list, F_list, L_list], index = index, columns = columns)\n",
    "accuracy_df=accuracy_df.transpose()\n",
    "accuracy_df.columns.name = 'Algorithm'\n",
    "\n",
    "accuracy_df"
   ]
  },
  {
   "cell_type": "markdown",
   "metadata": {
    "slideshow": {
     "slide_type": "slide"
    }
   },
   "source": [
    "Based on Jaccard score, accuracy score and F1 score. Both the models Decision tree and Logistic regression are similar. But as the logloss is much better for logistic regression and this model is best for binary classification, we can conclude that logistic regression is the best classification model for the given problem."
   ]
  },
  {
   "cell_type": "code",
   "execution_count": 36,
   "metadata": {},
   "outputs": [],
   "source": [
    "def plot_confusion_matrix(cm, classes,\n",
    "                          normalize=False,\n",
    "                          title='Confusion matrix',\n",
    "                          cmap=plt.cm.Blues):\n",
    "    \"\"\"\n",
    "    This function prints and plots the confusion matrix.\n",
    "    Normalization can be applied by setting `normalize=True`.\n",
    "    \"\"\"\n",
    "    if normalize:\n",
    "        cm = cm.astype('float') / cm.sum(axis=1)[:, np.newaxis]\n",
    "        print(\"Normalized confusion matrix\")\n",
    "    else:\n",
    "        print('Confusion matrix, without normalization')\n",
    "\n",
    "   \n",
    "\n",
    "    plt.imshow(cm, interpolation='nearest', cmap=cmap)\n",
    "    plt.title(title)\n",
    "    plt.colorbar()\n",
    "    tick_marks = np.arange(len(classes))\n",
    "    plt.xticks(tick_marks, classes, rotation=45)\n",
    "    plt.yticks(tick_marks, classes)\n",
    "\n",
    "    fmt = '.2f' if normalize else 'd'\n",
    "    thresh = cm.max() / 2.\n",
    "    for i, j in itertools.product(range(cm.shape[0]), range(cm.shape[1])):\n",
    "        plt.text(j, i, format(cm[i, j], fmt),\n",
    "                 horizontalalignment=\"center\",\n",
    "                 color=\"white\" if cm[i, j] > thresh else \"black\")\n",
    "\n",
    "    plt.tight_layout()\n",
    "    plt.ylabel('True label')\n",
    "    plt.xlabel('Predicted label')"
   ]
  },
  {
   "cell_type": "code",
   "execution_count": 37,
   "metadata": {},
   "outputs": [
    {
     "name": "stdout",
     "output_type": "stream",
     "text": [
      "(34913,)\n",
      "(34913,)\n",
      "Confusion matrix, without normalization\n"
     ]
    },
    {
     "data": {
      "image/png": "[encoded data removed]",
      "text/plain": [
       "<Figure size 432x288 with 2 Axes>"
      ]
     },
     "metadata": {
      "needs_background": "light"
     },
     "output_type": "display_data"
    }
   ],
   "source": [
    "# Compute confusion matrix\n",
    "print(y_test.shape)\n",
    "print(y_test.shape)\n",
    "cnf_matrix = confusion_matrix(y_test, y_pred, labels=[2,1])\n",
    "np.set_printoptions(precision=2)\n",
    "\n",
    "\n",
    "# Plot non-normalized confusion matrix\n",
    "plt.figure()\n",
    "plot_confusion_matrix(cnf_matrix, classes=['Physical Injury','Property Damage'], normalize= False,  title='Confusion matrix')"
   ]
  },
  {
   "cell_type": "markdown",
   "metadata": {
    "slideshow": {
     "slide_type": "slide"
    }
   },
   "source": [
    "The above classification report shows that total number of physical injury is 17390 where the model identified 13776 such cases. Total number of property damage is 17523 where the model identified only 6157 cases correctly. "
   ]
  },
  {
   "cell_type": "markdown",
   "metadata": {
    "slideshow": {
     "slide_type": "slide"
    }
   },
   "source": [
    "### Classification report"
   ]
  },
  {
   "cell_type": "code",
   "execution_count": 38,
   "metadata": {},
   "outputs": [
    {
     "name": "stdout",
     "output_type": "stream",
     "text": [
      "              precision    recall  f1-score   support\n",
      "\n",
      "           1       0.63      0.35      0.45     17523\n",
      "           2       0.55      0.79      0.65     17390\n",
      "\n",
      "    accuracy                           0.57     34913\n",
      "   macro avg       0.59      0.57      0.55     34913\n",
      "weighted avg       0.59      0.57      0.55     34913\n",
      "\n"
     ]
    }
   ],
   "source": [
    "print(classification_report(y_test, y_pred))"
   ]
  },
  {
   "cell_type": "markdown",
   "metadata": {
    "slideshow": {
     "slide_type": "slide"
    }
   },
   "source": [
    "The precision, recall and f1 score for label 2 or Actual Phycal injury is good enough but both recall score and f1 score for the label 1 or Physical damage is very poor. That is why the average f1 score is not as high as expected even for a the logistic regression. We can conclude that, more datas are required to improve this model."
   ]
  },
  {
   "cell_type": "markdown",
   "metadata": {
    "slideshow": {
     "slide_type": "slide"
    }
   },
   "source": [
    "# <font color=blue> Discussions </font> \n",
    "\n",
    "In the beginning of this notebook, we had categorical data that was of type 'object'. This is not a data type that we could have fed through an algoritim, so label encoding was used to created new classes that were of type int8; a numerical data type.\n",
    "\n",
    "After solving that issue we were presented with another - imbalanced data. As mentioned earlier, class 1 was nearly three times larger than class 2. The solution to this was downsampling the majority class with sklearn's resample tool. We downsampled to match the minority class exactly with 58188 values each.\n",
    "\n",
    "Once we analyzed and cleaned the data, it was then fed through three ML models; K-Nearest Neighbor, Decision Tree and Logistic Regression. Although the first two are ideal for this project, logistic regression made most sense because of its binary nature.\n",
    "\n",
    "Evaluation metrics used to test the accuracy of our models were jaccard index, f-1 score and logloss for logistic regression. Choosing different k, max depth and hyparameter C values helped to improve our accuracy to be the best possible."
   ]
  },
  {
   "cell_type": "markdown",
   "metadata": {
    "slideshow": {
     "slide_type": "slide"
    }
   },
   "source": [
    "#  <font color=blue> Recommendations </font>\n",
    "\n",
    "After assessing the data and the output of the Machine Learning models, a few recommendations can be made for the stakeholders. The developmental body for Seattle city can assess how much of these accidents have occurred in a place where road or light conditions were not ideal for that specific area and could launch development projects for those areas where most severe accidents take place in order to minimize the effects of these two factors. Whereas, the car drivers could also use this data to assess when to take extra precautions on the road under the given circumstances of light condition, road condition and weather, in order to avoid a severe accident, if any."
   ]
  },
  {
   "cell_type": "markdown",
   "metadata": {},
   "source": [
    "## Public Development Authority of Seattle (PDAS)"
   ]
  },
  {
   "cell_type": "code",
   "execution_count": 41,
   "metadata": {},
   "outputs": [
    {
     "data": {
      "image/png": "[encoded data removed]",
      "text/plain": [
       "<Figure size 1080x432 with 1 Axes>"
      ]
     },
     "metadata": {},
     "output_type": "display_data"
    }
   ],
   "source": [
    "a=df_new.iloc[:,8].value_counts()\n",
    "\n",
    "a.to_frame()\n",
    "\n",
    "color_list=['peachpuff','lightseagreen','darkorange']\n",
    "\n",
    "a.plot(kind='pie',\n",
    "            figsize=(15, 6),\n",
    "            autopct='%1.1f%%',\n",
    "            startangle=90,\n",
    "            shadow=True,\n",
    "            labels=a.index,\n",
    "            colors=color_list)\n",
    "            \n",
    "\n",
    "plt.title('Area of accidents - Seattle, Washington', fontsize=18, y=1.05)\n",
    "plt.legend(labels=a.index, loc='upper left')\n",
    "\n",
    "plt.show()"
   ]
  },
  {
   "cell_type": "markdown",
   "metadata": {},
   "source": [
    "Almost all of the accidents recorded have occurred on either a block or an intersection, the PDAS can take the following measures in response car accidents:\n",
    "1. Launch development projects for those areas where most severe accidents take place in order to minimize the effects of these two factors\n",
    "2. Increased investment towards improving lighting and road conditions of the area which have high instances recorded\n",
    "3. Install safety signs on the roads and ensure that all precautions are being taken by people within the area"
   ]
  },
  {
   "cell_type": "markdown",
   "metadata": {},
   "source": [
    "## Car Drivers"
   ]
  },
  {
   "cell_type": "code",
   "execution_count": 42,
   "metadata": {},
   "outputs": [
    {
     "data": {
      "text/plain": [
       "(37868, 38)"
      ]
     },
     "execution_count": 42,
     "metadata": {},
     "output_type": "execute_result"
    }
   ],
   "source": [
    "df_new.iloc[:,0].replace(1, 'Property Damage', inplace=True)\n",
    "df_new.iloc[:,0].replace(2, 'Physical Injury', inplace=True)\n",
    "\n",
    "df_new.iloc[:,1].fillna(0, inplace=True)  #Column X\n",
    "df_new.iloc[:,2].fillna(0, inplace=True)  #Column Y \n",
    "\n",
    "indexNames = df_new[df_new['X'] == 0].index\n",
    "df_new.drop(indexNames , inplace=True)\n",
    "\n",
    "indexNames = df_new[df_new['Y'] == 0].index\n",
    "df_new.drop(indexNames , inplace=True)\n",
    "\n",
    "df_new=df_new.iloc[0:df_new.shape[0]:5, 0:]\n",
    "df_new.dropna(axis=1, how='any', thresh=None, subset=None, inplace=False)\n",
    "\n",
    "df_new.shape"
   ]
  },
  {
   "cell_type": "code",
   "execution_count": null,
   "metadata": {},
   "outputs": [],
   "source": [
    "#Folium Map of San Francisco\n",
    "seattle_map = folium.Map(width=300,height=300, location=[47.61536892, -122.3302243], zoom_start=12)\n",
    "seattle_map \n",
    "\n",
    "incidents = plugins.MarkerCluster().add_to(seattle_map)\n",
    "#incidents=folium.map.FeatureGroup() will show each incident individullay\n",
    "\n",
    "# loop through the dataframe and add each data point to the mark cluster\n",
    "for lat, lng, label, in zip(df_new.Y, df_new.X, df_new.iloc[:,0]):\n",
    "    folium.Marker(\n",
    "    location=[lat, lng],\n",
    "    icon=None,\n",
    "    popup=label,\n",
    "    ).add_to(incidents)    \n",
    "    \n",
    "# add incidents to map\n",
    "seattle_map.add_child(incidents)\n",
    "\n",
    "seattle_map  "
   ]
  },
  {
   "cell_type": "markdown",
   "metadata": {},
   "source": [
    "A higher concentration of accidents can be mostly seen on the main roads of the city, specifically near the highway in the city center. The following steps can be taken by car drivers to avoid severe accidents:\n",
    "1. Be extra careful around the I-5 highway which goes through the city center since it has the highest proportion of accidents recorded of total seattle\n",
    "2. Most incidents occur under adverse weather, road and light conditions. Precautions should be taken under such circumstances, for e.g. driving slow on a wet road which may lead to loss of control"
   ]
  }
 ],
 "metadata": {
  "hide_input": false,
  "kernelspec": {
   "display_name": "Python 3",
   "language": "python",
   "name": "python3"
  },
  "language_info": {
   "codemirror_mode": {
    "name": "ipython",
    "version": 3
   },
   "file_extension": ".py",
   "mimetype": "text/x-python",
   "name": "python",
   "nbconvert_exporter": "python",
   "pygments_lexer": "ipython3",
   "version": "3.7.7"
  },
  "toc": {
   "base_numbering": 1,
   "nav_menu": {},
   "number_sections": true,
   "sideBar": true,
   "skip_h1_title": false,
   "title_cell": "Table of Contents",
   "title_sidebar": "Contents",
   "toc_cell": true,
   "toc_position": {
    "height": "609px",
    "left": "337px",
    "top": "137px",
    "width": "165px"
   },
   "toc_section_display": true,
   "toc_window_display": true
  }
 },
 "nbformat": 4,
 "nbformat_minor": 1
}
